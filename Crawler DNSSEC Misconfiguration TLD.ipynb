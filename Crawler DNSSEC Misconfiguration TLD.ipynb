{
 "cells": [
  {
   "cell_type": "code",
   "execution_count": 1,
   "metadata": {},
   "outputs": [],
   "source": [
    "import logging\n",
    "\n",
    "import numpy as np\n",
    "import dns.message, dns.query, dns.rdataclass, dns.rdatatype, dns.flags, dns.exception, dns.name\n",
    "from tqdm import tqdm\n",
    "from tranco import Tranco\n",
    "import pandas as pd"
   ]
  },
  {
   "cell_type": "code",
   "execution_count": 5,
   "metadata": {},
   "outputs": [],
   "source": [
    "IN = dns.rdataclass.from_text(\"IN\")\n",
    "NS = dns.rdatatype.from_text(\"NS\")\n",
    "AXFR = dns.rdatatype.from_text(\"AXFR\")\n",
    "DS = dns.rdatatype.from_text(\"DS\")\n",
    "DNSKEY = dns.rdatatype.from_text(\"DNSKEY\")\n",
    "SOA = dns.rdatatype.from_text(\"SOA\")\n",
    "DS = dns.rdatatype.from_text(\"DS\")\n",
    "A = dns.rdatatype.from_text(\"A\")\n",
    "AAAA = dns.rdatatype.from_text(\"AAAA\")\n",
    "RRSIG = dns.rdatatype.from_text(\"RRSIG\")"
   ]
  },
  {
   "cell_type": "code",
   "execution_count": 6,
   "metadata": {},
   "outputs": [],
   "source": [
    "def query(q, where='127.0.0.1', port=5301):\n",
    "    logging.info(f'Query: {q.question[0].name} {dns.rdatatype.to_text(q.question[0].rdtype)}')\n",
    "    q.flags = q.flags | dns.flags.CD\n",
    "    try:\n",
    "        r = dns.query.tcp(q, where=where, port=port, timeout=5)\n",
    "    except dns.exception.Timeout:\n",
    "        r = dns.query.tcp(q, where=where, port=port, timeout=5)\n",
    "    logging.debug(f'Response Code: {r.rcode()}')\n",
    "    logging.debug(f'Response: \\n{r}')\n",
    "    if r.rcode() == 2:  # servfail\n",
    "        raise Exception(f\"SERVFAIL after asking {q.question[0].name} {dns.rdatatype.to_text(q.question[0].rdtype)}\")\n",
    "    return r"
   ]
  },
  {
   "cell_type": "code",
   "execution_count": 4,
   "metadata": {},
   "outputs": [],
   "source": [
    "def zone_soa(qname):\n",
    "    while True: # loop over qname parents to query for SOA\n",
    "        q = dns.message.make_query(qname, SOA, want_dnssec=True)\n",
    "        r = query(q)\n",
    "        if r.rcode() == 3:  # NXDOMAIN\n",
    "            return None, None\n",
    "        if r.rcode() != 0:\n",
    "            raise Exception(f\"zone_soa({qname}) query response code:{r.rcode()}\")\n",
    "        name = qname\n",
    "        while True: # loop over qname parents to find SOA record in DNS reply\n",
    "            rr = r.get_rrset(r.authority, name, IN, SOA) or r.get_rrset(r.answer, name, IN, SOA)\n",
    "            rrsig = r.get_rrset(r.authority, name, IN, RRSIG, covers=SOA) or r.get_rrset(r.answer, name, IN, RRSIG, covers=SOA) or []\n",
    "            if rr:\n",
    "                return rr, rrsig\n",
    "            logging.debug(f\"getting parent of name {name}\")\n",
    "            if name == dns.name.root:\n",
    "                break\n",
    "            name = name.parent()\n",
    "        logging.debug(f\"getting parent of qname {qname}\")\n",
    "        qname = qname.parent()\n",
    "\n",
    "def zone_ds(qname):\n",
    "    q = dns.message.make_query(qname, DS)\n",
    "    q.flags = q.flags | dns.flags.CD\n",
    "    r = query(q)\n",
    "    ds_set = r.get_rrset(r.answer, qname, IN, DS)\n",
    "    return ds_set or []\n",
    "\n",
    "def zone_dnskey(qname):\n",
    "    q = dns.message.make_query(qname, DNSKEY, want_dnssec=True)\n",
    "    q.flags = q.flags | dns.flags.CD\n",
    "    r = query(q)\n",
    "    dnskey_set = r.get_rrset(r.answer, qname, IN, DNSKEY) or []\n",
    "    dnskey_set_rrsig = r.get_rrset(r.answer, qname, IN, RRSIG, covers=DNSKEY) or []\n",
    "    return dnskey_set, dnskey_set_rrsig"
   ]
  },
  {
   "cell_type": "code",
   "execution_count": 10,
   "metadata": {},
   "outputs": [
    {
     "name": "stdout",
     "output_type": "stream",
     "text": [
      "lax.xfr.dns.icann.org has address 192.0.32.132\n",
      "lax.xfr.dns.icann.org has IPv6 address 2620:0:2d0:202::132\n"
     ]
    }
   ],
   "source": [
    "%%bash\n",
    "host lax.xfr.dns.icann.org"
   ]
  },
  {
   "cell_type": "code",
   "execution_count": 37,
   "metadata": {},
   "outputs": [
    {
     "name": "stdout",
     "output_type": "stream",
     "text": [
      "id 32709\n",
      "opcode QUERY\n",
      "rcode NOERROR\n",
      "flags RD AD\n",
      "edns 0\n",
      "payload 1232\n",
      ";QUESTION\n",
      ". IN AXFR\n",
      ";ANSWER\n",
      ";AUTHORITY\n",
      ";ADDITIONAL\n"
     ]
    }
   ],
   "source": [
    "q = dns.message.make_query('.', AXFR, use_edns=0)\n",
    "q.flags = q.flags | dns.flags.AD\n",
    "print(q)"
   ]
  },
  {
   "cell_type": "code",
   "execution_count": 42,
   "metadata": {},
   "outputs": [],
   "source": [
    "import dns.xfr, dns.zone"
   ]
  },
  {
   "cell_type": "code",
   "execution_count": 59,
   "metadata": {},
   "outputs": [],
   "source": [
    "domains = {\n",
    "    rrset.name.to_text() \n",
    "    for m in dns.query.xfr('192.0.32.132', dns.name.root, timeout=5) \n",
    "    for rrset in m.answer + m.authority if rrset.rdtype in [NS]\n",
    "}"
   ]
  },
  {
   "cell_type": "code",
   "execution_count": 60,
   "metadata": {},
   "outputs": [
    {
     "data": {
      "text/plain": [
       "1498"
      ]
     },
     "execution_count": 60,
     "metadata": {},
     "output_type": "execute_result"
    }
   ],
   "source": [
    "len(domains)"
   ]
  },
  {
   "cell_type": "code",
   "execution_count": 61,
   "metadata": {},
   "outputs": [],
   "source": [
    "def check_domain(d):\n",
    "    try:\n",
    "        d = dns.name.from_text(d)\n",
    "        soa, soa_rrsig = zone_soa(d)\n",
    "        z = soa.name if soa else None\n",
    "        \n",
    "        if z is None:\n",
    "            raise Exception(f\"Could not identify zone name for domain {d}\")\n",
    "        \n",
    "        ds = zone_ds(z)\n",
    "        dnskey, dnskey_rrsig = (zone_dnskey(z)) if ds else ([], [])\n",
    "\n",
    "        return {\n",
    "            'domain': d.to_text(),\n",
    "            'zone': z.to_text(),\n",
    "            'soa_rrsig': soa_rrsig,\n",
    "            'ds': ds,\n",
    "            'dnskey': dnskey,\n",
    "            'dnskey_rrsig': dnskey_rrsig,\n",
    "        }\n",
    "    except Exception as e:\n",
    "        e.d = d.to_text()\n",
    "        raise e"
   ]
  },
  {
   "cell_type": "code",
   "execution_count": 62,
   "metadata": {},
   "outputs": [],
   "source": [
    "import concurrent\n",
    "\n",
    "executor = concurrent.futures.ThreadPoolExecutor(50)"
   ]
  },
  {
   "cell_type": "code",
   "execution_count": 63,
   "metadata": {},
   "outputs": [],
   "source": [
    "def run_queries(domains):\n",
    "    errors = []\n",
    "    results = []    \n",
    "    futures = {d: executor.submit(check_domain, d) for d in tqdm(domains, desc=\"Scheduling queries\")}\n",
    "    with tqdm(total=len(futures), desc=\"Querying\") as pbar:\n",
    "        for future in concurrent.futures.as_completed(futures.values()):\n",
    "            pbar.update(1)\n",
    "            if future.exception():\n",
    "                logging.warning(f\"{future.exception().d}: {future.exception()}\")\n",
    "                errors.append(future.exception().d)\n",
    "            else:\n",
    "                results.append(future.result())\n",
    "    return results, errors"
   ]
  },
  {
   "cell_type": "code",
   "execution_count": 64,
   "metadata": {},
   "outputs": [
    {
     "name": "stderr",
     "output_type": "stream",
     "text": [
      "Scheduling queries: 100%|██████████| 1498/1498 [00:00<00:00, 11471.40it/s]\n",
      "Querying: 100%|██████████| 1498/1498 [00:07<00:00, 210.11it/s]\n"
     ]
    }
   ],
   "source": [
    "results, errors = run_queries(domains)"
   ]
  },
  {
   "cell_type": "code",
   "execution_count": 65,
   "metadata": {},
   "outputs": [
    {
     "name": "stderr",
     "output_type": "stream",
     "text": [
      "Scheduling queries: 0it [00:00, ?it/s]\n",
      "Querying: 0it [00:00, ?it/s]\n"
     ]
    }
   ],
   "source": [
    "results_retry, errors_retry = run_queries(errors)"
   ]
  },
  {
   "cell_type": "code",
   "execution_count": 66,
   "metadata": {},
   "outputs": [
    {
     "data": {
      "text/plain": [
       "1.0"
      ]
     },
     "execution_count": 66,
     "metadata": {},
     "output_type": "execute_result"
    }
   ],
   "source": [
    "1 - len(errors_retry) / len(domains)"
   ]
  },
  {
   "cell_type": "code",
   "execution_count": 68,
   "metadata": {},
   "outputs": [
    {
     "data": {
      "text/html": [
       "<div>\n",
       "<style scoped>\n",
       "    .dataframe tbody tr th:only-of-type {\n",
       "        vertical-align: middle;\n",
       "    }\n",
       "\n",
       "    .dataframe tbody tr th {\n",
       "        vertical-align: top;\n",
       "    }\n",
       "\n",
       "    .dataframe thead th {\n",
       "        text-align: right;\n",
       "    }\n",
       "</style>\n",
       "<table border=\"1\" class=\"dataframe\">\n",
       "  <thead>\n",
       "    <tr style=\"text-align: right;\">\n",
       "      <th></th>\n",
       "      <th>domain</th>\n",
       "      <th>zone</th>\n",
       "      <th>soa_rrsig</th>\n",
       "      <th>ds</th>\n",
       "      <th>dnskey</th>\n",
       "      <th>dnskey_rrsig</th>\n",
       "      <th>ds_algos</th>\n",
       "      <th>dnskey_algos</th>\n",
       "      <th>dnskey_rrsig_algos</th>\n",
       "      <th>soa_rrsig_algos</th>\n",
       "    </tr>\n",
       "  </thead>\n",
       "  <tbody>\n",
       "    <tr>\n",
       "      <th>0</th>\n",
       "      <td>clinic.</td>\n",
       "      <td>clinic.</td>\n",
       "      <td>(SOA 8 1 3600 20211104123759 20211005113759 57...</td>\n",
       "      <td>(41947 8 2 b0f663276812153021d47e9cd2ff811528b...</td>\n",
       "      <td>(257 3 8 AwEAAcvTHmPn6v1yXm/FQhByRDSkM90A 8eX2...</td>\n",
       "      <td>(DNSKEY 8 1 3600 20211103211720 20211004211304...</td>\n",
       "      <td>{Algorithm.RSASHA256}</td>\n",
       "      <td>{Algorithm.RSASHA256}</td>\n",
       "      <td>{Algorithm.RSASHA256}</td>\n",
       "      <td>{Algorithm.RSASHA256}</td>\n",
       "    </tr>\n",
       "    <tr>\n",
       "      <th>1</th>\n",
       "      <td>chat.</td>\n",
       "      <td>chat.</td>\n",
       "      <td>(SOA 8 1 3600 20211104123811 20211005113811 55...</td>\n",
       "      <td>(26920 8 1 b173a1003fa332b416e206ab573f01f37ca...</td>\n",
       "      <td>(256 3 8 AwEAAcbmk/5OptWsFOhli3ZKoPH/T/08 J6gS...</td>\n",
       "      <td>(DNSKEY 8 1 3600 20211103212813 20211004210431...</td>\n",
       "      <td>{Algorithm.RSASHA256}</td>\n",
       "      <td>{Algorithm.RSASHA256}</td>\n",
       "      <td>{Algorithm.RSASHA256}</td>\n",
       "      <td>{Algorithm.RSASHA256}</td>\n",
       "    </tr>\n",
       "    <tr>\n",
       "      <th>2</th>\n",
       "      <td>ua.</td>\n",
       "      <td>ua.</td>\n",
       "      <td>(SOA 13 1 36036 20211104113100 20211005113100 ...</td>\n",
       "      <td>(48349 13 2 d8456df0eab0db7d2422b4110722f5772d...</td>\n",
       "      <td>(257 3 13 C2bE7DeaYbO2Am+P1gdNZfkPEyxILzG1 cB7...</td>\n",
       "      <td>(DNSKEY 13 1 36036 20211104083100 202110050831...</td>\n",
       "      <td>{Algorithm.ECDSAP256SHA256}</td>\n",
       "      <td>{Algorithm.ECDSAP256SHA256}</td>\n",
       "      <td>{Algorithm.ECDSAP256SHA256}</td>\n",
       "      <td>{Algorithm.ECDSAP256SHA256}</td>\n",
       "    </tr>\n",
       "  </tbody>\n",
       "</table>\n",
       "</div>"
      ],
      "text/plain": [
       "    domain     zone                                          soa_rrsig  \\\n",
       "0  clinic.  clinic.  (SOA 8 1 3600 20211104123759 20211005113759 57...   \n",
       "1    chat.    chat.  (SOA 8 1 3600 20211104123811 20211005113811 55...   \n",
       "2      ua.      ua.  (SOA 13 1 36036 20211104113100 20211005113100 ...   \n",
       "\n",
       "                                                  ds  \\\n",
       "0  (41947 8 2 b0f663276812153021d47e9cd2ff811528b...   \n",
       "1  (26920 8 1 b173a1003fa332b416e206ab573f01f37ca...   \n",
       "2  (48349 13 2 d8456df0eab0db7d2422b4110722f5772d...   \n",
       "\n",
       "                                              dnskey  \\\n",
       "0  (257 3 8 AwEAAcvTHmPn6v1yXm/FQhByRDSkM90A 8eX2...   \n",
       "1  (256 3 8 AwEAAcbmk/5OptWsFOhli3ZKoPH/T/08 J6gS...   \n",
       "2  (257 3 13 C2bE7DeaYbO2Am+P1gdNZfkPEyxILzG1 cB7...   \n",
       "\n",
       "                                        dnskey_rrsig  \\\n",
       "0  (DNSKEY 8 1 3600 20211103211720 20211004211304...   \n",
       "1  (DNSKEY 8 1 3600 20211103212813 20211004210431...   \n",
       "2  (DNSKEY 13 1 36036 20211104083100 202110050831...   \n",
       "\n",
       "                      ds_algos                 dnskey_algos  \\\n",
       "0        {Algorithm.RSASHA256}        {Algorithm.RSASHA256}   \n",
       "1        {Algorithm.RSASHA256}        {Algorithm.RSASHA256}   \n",
       "2  {Algorithm.ECDSAP256SHA256}  {Algorithm.ECDSAP256SHA256}   \n",
       "\n",
       "            dnskey_rrsig_algos              soa_rrsig_algos  \n",
       "0        {Algorithm.RSASHA256}        {Algorithm.RSASHA256}  \n",
       "1        {Algorithm.RSASHA256}        {Algorithm.RSASHA256}  \n",
       "2  {Algorithm.ECDSAP256SHA256}  {Algorithm.ECDSAP256SHA256}  "
      ]
     },
     "execution_count": 68,
     "metadata": {},
     "output_type": "execute_result"
    }
   ],
   "source": [
    "data = pd.DataFrame(results + results_retry)\n",
    "data['ds_algos'] = data.apply(lambda row: {rr.algorithm for rr in row['ds']}, axis=1)\n",
    "data['dnskey_algos'] = data.apply(lambda row: {rr.algorithm for rr in row['dnskey']}, axis=1)\n",
    "data['dnskey_rrsig_algos'] = data.apply(lambda row: {rr.algorithm for rr in row['dnskey_rrsig']}, axis=1)\n",
    "data['soa_rrsig_algos'] = data.apply(lambda row: {rr.algorithm for rr in row['soa_rrsig']}, axis=1)\n",
    "data[data['ds'].apply(len) > 0].head(3)"
   ]
  },
  {
   "cell_type": "code",
   "execution_count": 70,
   "metadata": {},
   "outputs": [],
   "source": [
    "data['dnskey_rrsig_ok'] = data.apply(lambda row: row['dnskey_rrsig_algos'].issuperset(row['ds_algos']), axis=1)\n",
    "data['soa_rrsig_ok'] = data.apply(lambda row: row['soa_rrsig_algos'].issuperset(row['dnskey_algos']), axis=1)"
   ]
  },
  {
   "cell_type": "code",
   "execution_count": 71,
   "metadata": {},
   "outputs": [
    {
     "data": {
      "text/plain": [
       "(0.9973297730307076, 0.9973297730307076)"
      ]
     },
     "execution_count": 71,
     "metadata": {},
     "output_type": "execute_result"
    }
   ],
   "source": [
    "data['dnskey_rrsig_ok'].mean(), data['soa_rrsig_ok'].mean()"
   ]
  },
  {
   "cell_type": "code",
   "execution_count": 72,
   "metadata": {},
   "outputs": [
    {
     "data": {
      "text/plain": [
       "(4, 4)"
      ]
     },
     "execution_count": 72,
     "metadata": {},
     "output_type": "execute_result"
    }
   ],
   "source": [
    "(~data['dnskey_rrsig_ok']).sum(), (~data['soa_rrsig_ok']).sum()"
   ]
  },
  {
   "cell_type": "code",
   "execution_count": 79,
   "metadata": {},
   "outputs": [
    {
     "data": {
      "text/html": [
       "<div>\n",
       "<style scoped>\n",
       "    .dataframe tbody tr th:only-of-type {\n",
       "        vertical-align: middle;\n",
       "    }\n",
       "\n",
       "    .dataframe tbody tr th {\n",
       "        vertical-align: top;\n",
       "    }\n",
       "\n",
       "    .dataframe thead th {\n",
       "        text-align: right;\n",
       "    }\n",
       "</style>\n",
       "<table border=\"1\" class=\"dataframe\">\n",
       "  <thead>\n",
       "    <tr style=\"text-align: right;\">\n",
       "      <th></th>\n",
       "      <th>zone</th>\n",
       "      <th>ds_algos</th>\n",
       "      <th>dnskey_rrsig_algos</th>\n",
       "      <th>dnskey_rrsig_ok</th>\n",
       "      <th>dnskey_algos</th>\n",
       "      <th>soa_rrsig_algos</th>\n",
       "      <th>soa_rrsig_ok</th>\n",
       "    </tr>\n",
       "  </thead>\n",
       "  <tbody>\n",
       "    <tr>\n",
       "      <th>434</th>\n",
       "      <td>sex.</td>\n",
       "      <td>{Algorithm.RSASHA256, Algorithm.RSASHA1NSEC3SHA1}</td>\n",
       "      <td>{Algorithm.RSASHA256}</td>\n",
       "      <td>False</td>\n",
       "      <td>{Algorithm.RSASHA256, Algorithm.RSASHA1NSEC3SHA1}</td>\n",
       "      <td>{Algorithm.RSASHA256}</td>\n",
       "      <td>False</td>\n",
       "    </tr>\n",
       "    <tr>\n",
       "      <th>647</th>\n",
       "      <td>xxx.</td>\n",
       "      <td>{Algorithm.RSASHA256, Algorithm.RSASHA1NSEC3SHA1}</td>\n",
       "      <td>{Algorithm.RSASHA256}</td>\n",
       "      <td>False</td>\n",
       "      <td>{Algorithm.RSASHA256, Algorithm.RSASHA1NSEC3SHA1}</td>\n",
       "      <td>{Algorithm.RSASHA256}</td>\n",
       "      <td>False</td>\n",
       "    </tr>\n",
       "    <tr>\n",
       "      <th>1463</th>\n",
       "      <td>porn.</td>\n",
       "      <td>{Algorithm.RSASHA256, Algorithm.RSASHA1NSEC3SHA1}</td>\n",
       "      <td>{Algorithm.RSASHA256}</td>\n",
       "      <td>False</td>\n",
       "      <td>{Algorithm.RSASHA256, Algorithm.RSASHA1NSEC3SHA1}</td>\n",
       "      <td>{Algorithm.RSASHA256}</td>\n",
       "      <td>False</td>\n",
       "    </tr>\n",
       "    <tr>\n",
       "      <th>1486</th>\n",
       "      <td>adult.</td>\n",
       "      <td>{Algorithm.RSASHA256, Algorithm.RSASHA1NSEC3SHA1}</td>\n",
       "      <td>{Algorithm.RSASHA256}</td>\n",
       "      <td>False</td>\n",
       "      <td>{Algorithm.RSASHA256, Algorithm.RSASHA1NSEC3SHA1}</td>\n",
       "      <td>{Algorithm.RSASHA256}</td>\n",
       "      <td>False</td>\n",
       "    </tr>\n",
       "  </tbody>\n",
       "</table>\n",
       "</div>"
      ],
      "text/plain": [
       "        zone                                           ds_algos  \\\n",
       "434     sex.  {Algorithm.RSASHA256, Algorithm.RSASHA1NSEC3SHA1}   \n",
       "647     xxx.  {Algorithm.RSASHA256, Algorithm.RSASHA1NSEC3SHA1}   \n",
       "1463   porn.  {Algorithm.RSASHA256, Algorithm.RSASHA1NSEC3SHA1}   \n",
       "1486  adult.  {Algorithm.RSASHA256, Algorithm.RSASHA1NSEC3SHA1}   \n",
       "\n",
       "         dnskey_rrsig_algos  dnskey_rrsig_ok  \\\n",
       "434   {Algorithm.RSASHA256}            False   \n",
       "647   {Algorithm.RSASHA256}            False   \n",
       "1463  {Algorithm.RSASHA256}            False   \n",
       "1486  {Algorithm.RSASHA256}            False   \n",
       "\n",
       "                                           dnskey_algos  \\\n",
       "434   {Algorithm.RSASHA256, Algorithm.RSASHA1NSEC3SHA1}   \n",
       "647   {Algorithm.RSASHA256, Algorithm.RSASHA1NSEC3SHA1}   \n",
       "1463  {Algorithm.RSASHA256, Algorithm.RSASHA1NSEC3SHA1}   \n",
       "1486  {Algorithm.RSASHA256, Algorithm.RSASHA1NSEC3SHA1}   \n",
       "\n",
       "            soa_rrsig_algos  soa_rrsig_ok  \n",
       "434   {Algorithm.RSASHA256}         False  \n",
       "647   {Algorithm.RSASHA256}         False  \n",
       "1463  {Algorithm.RSASHA256}         False  \n",
       "1486  {Algorithm.RSASHA256}         False  "
      ]
     },
     "execution_count": 79,
     "metadata": {},
     "output_type": "execute_result"
    }
   ],
   "source": [
    "data[~data['dnskey_rrsig_ok'] | ~data['dnskey_rrsig_ok']][['zone', 'ds_algos', 'dnskey_rrsig_algos', 'dnskey_rrsig_ok', 'dnskey_algos', 'soa_rrsig_algos', 'soa_rrsig_ok']]"
   ]
  },
  {
   "cell_type": "code",
   "execution_count": 80,
   "metadata": {},
   "outputs": [],
   "source": [
    "data['dangling_ds_algo'] = data.apply(lambda row: row['ds_algos'] - row['dnskey_rrsig_algos'], axis=1)"
   ]
  },
  {
   "cell_type": "code",
   "execution_count": 81,
   "metadata": {},
   "outputs": [],
   "source": [
    "data['dangling_dnskey_algo'] = data.apply(lambda row: row['dnskey_algos'] - row['soa_rrsig_algos'], axis=1)"
   ]
  },
  {
   "cell_type": "code",
   "execution_count": 82,
   "metadata": {},
   "outputs": [
    {
     "data": {
      "text/plain": [
       "{(): 1494, (<Algorithm.RSASHA1NSEC3SHA1: 7>,): 4}"
      ]
     },
     "execution_count": 82,
     "metadata": {},
     "output_type": "execute_result"
    }
   ],
   "source": [
    "dangling, counts = np.unique(data['dangling_ds_algo'], return_counts=True)\n",
    "hist = {}\n",
    "for algos, num in zip([tuple(sorted(d)) for d in dangling], counts):\n",
    "    hist[algos] = hist.get(algos, 0) + num\n",
    "hist"
   ]
  },
  {
   "cell_type": "code",
   "execution_count": 83,
   "metadata": {},
   "outputs": [
    {
     "data": {
      "text/plain": [
       "{(): 1494, (<Algorithm.RSASHA1NSEC3SHA1: 7>,): 4}"
      ]
     },
     "execution_count": 83,
     "metadata": {},
     "output_type": "execute_result"
    }
   ],
   "source": [
    "dangling, counts = np.unique(data['dangling_dnskey_algo'], return_counts=True)\n",
    "hist = {}\n",
    "for algos, num in zip([tuple(sorted(d)) for d in dangling], counts):\n",
    "    hist[algos] = hist.get(algos, 0) + num\n",
    "hist"
   ]
  },
  {
   "cell_type": "code",
   "execution_count": 85,
   "metadata": {},
   "outputs": [],
   "source": [
    "data.to_pickle(f'dnssec-misconfiguration-prevalence-tld.pickle')"
   ]
  },
  {
   "cell_type": "code",
   "execution_count": 102,
   "metadata": {},
   "outputs": [],
   "source": [
    "import numpy as np"
   ]
  },
  {
   "cell_type": "code",
   "execution_count": 107,
   "metadata": {},
   "outputs": [
    {
     "data": {
      "text/plain": [
       "[((), 126),\n",
       " ((<Algorithm.RSASHA1: 5>,), 29),\n",
       " ((<Algorithm.RSASHA1NSEC3SHA1: 7>,), 34),\n",
       " ((<Algorithm.RSASHA1NSEC3SHA1: 7>, <Algorithm.RSASHA256: 8>), 4),\n",
       " ((<Algorithm.RSASHA256: 8>,), 1227),\n",
       " ((<Algorithm.RSASHA512: 10>,), 33),\n",
       " ((<Algorithm.ECDSAP256SHA256: 13>,), 45)]"
      ]
     },
     "execution_count": 107,
     "metadata": {},
     "output_type": "execute_result"
    }
   ],
   "source": [
    "list(zip(*np.unique(data['ds_algos'].apply(lambda x: tuple(sorted(x))), return_counts=True)))"
   ]
  },
  {
   "cell_type": "code",
   "execution_count": 88,
   "metadata": {},
   "outputs": [],
   "source": [
    "import seaborn as sns"
   ]
  },
  {
   "cell_type": "code",
   "execution_count": 109,
   "metadata": {},
   "outputs": [
    {
     "data": {
      "text/plain": [
       "<AxesSubplot:xlabel='ds_algos_short', ylabel='Count'>"
      ]
     },
     "execution_count": 109,
     "metadata": {},
     "output_type": "execute_result"
    },
    {
     "data": {
      "image/png": "[encoded data removed]",
      "text/plain": [
       "<Figure size 432x288 with 1 Axes>"
      ]
     },
     "metadata": {
      "needs_background": "light"
     },
     "output_type": "display_data"
    }
   ],
   "source": [
    "data['ds_algos_short'] = data.apply(lambda row: ', '.join(sorted(str(int(a)) for a in row['ds_algos'])) or 'none', axis=1)\n",
    "sns.histplot(\n",
    "    data=data.sort_values('ds_algos'),\n",
    "    x='ds_algos_short',\n",
    ")"
   ]
  },
  {
   "cell_type": "markdown",
   "metadata": {},
   "source": [
    "# Debug"
   ]
  },
  {
   "cell_type": "code",
   "execution_count": null,
   "metadata": {},
   "outputs": [],
   "source": [
    "logging.basicConfig(level=logging.DEBUG, force=True)"
   ]
  },
  {
   "cell_type": "code",
   "execution_count": null,
   "metadata": {},
   "outputs": [],
   "source": [
    "zone_dnskey(dns.name.from_text('europa.eu'))"
   ]
  },
  {
   "cell_type": "code",
   "execution_count": null,
   "metadata": {},
   "outputs": [],
   "source": []
  }
 ],
 "metadata": {
  "kernelspec": {
   "display_name": "Python 3",
   "language": "python",
   "name": "python3"
  },
  "language_info": {
   "codemirror_mode": {
    "name": "ipython",
    "version": 3
   },
   "file_extension": ".py",
   "mimetype": "text/x-python",
   "name": "python",
   "nbconvert_exporter": "python",
   "pygments_lexer": "ipython3",
   "version": "3.8.10"
  }
 },
 "nbformat": 4,
 "nbformat_minor": 4
}
