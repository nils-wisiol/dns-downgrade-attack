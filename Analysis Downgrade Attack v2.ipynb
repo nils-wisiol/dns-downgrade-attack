{
 "cells": [
  {
   "cell_type": "markdown",
   "metadata": {},
   "source": [
    "# DNSSEC-Aware Resolver Downgrade Attacks"
   ]
  },
  {
   "cell_type": "code",
   "execution_count": null,
   "metadata": {},
   "outputs": [],
   "source": [
    "import logging\n",
    "import random\n",
    "import string\n",
    "from datetime import datetime\n",
    "import itertools\n",
    "import concurrent\n",
    "import math\n",
    "\n",
    "import numpy as np\n",
    "import dns.message, dns.query, dns.rdataclass, dns.rdatatype, dns.flags, dns.exception, dns.name, dns.dnssec\n",
    "from tqdm import tqdm\n",
    "import pandas as pd\n",
    "\n",
    "IN = dns.rdataclass.from_text(\"IN\")\n",
    "NS = dns.rdatatype.from_text(\"NS\")\n",
    "SOA = dns.rdatatype.from_text(\"SOA\")\n",
    "DS = dns.rdatatype.from_text(\"DS\")\n",
    "A = dns.rdatatype.from_text(\"A\")\n",
    "TXT = dns.rdatatype.from_text(\"TXT\")\n",
    "AAAA = dns.rdatatype.from_text(\"AAAA\")\n",
    "RRSIG = dns.rdatatype.from_text(\"RRSIG\")\n",
    "\n",
    "ALGORITHMS = [\n",
    "    dns.dnssec.RSASHA1,\n",
    "    dns.dnssec.RSASHA256,\n",
    "    dns.dnssec.RSASHA512,\n",
    "    dns.dnssec.ECDSAP256SHA256,\n",
    "    dns.dnssec.ECDSAP384SHA384,\n",
    "    dns.dnssec.ED25519,\n",
    "    dns.dnssec.ED448,\n",
    "]\n",
    "\n",
    "ZONE = dns.name.from_text('downgrade.dedyn.io')\n",
    "\n",
    "executor = concurrent.futures.ThreadPoolExecutor(50)\n",
    "\n",
    "def query(qname, resolver, cd, rdtype=A):\n",
    "    q = dns.message.make_query(qname, rdtype)\n",
    "    if cd:\n",
    "        q.flags = q.flags | dns.flags.CD\n",
    "    \n",
    "    if resolver.startswith('https'):\n",
    "        method = dns.query.https\n",
    "        where = resolver\n",
    "    elif resolver.startswith('tls'):\n",
    "        method = dns.query.tls\n",
    "        where = resolver[len('tls://'):]\n",
    "    else:\n",
    "        method = dns.query.udp\n",
    "        where = resolver\n",
    "        \n",
    "    try:\n",
    "        return method(q, where=where, timeout=2)\n",
    "    except dns.exception.Timeout:\n",
    "        return method(q, where=where, timeout=5)\n",
    "    \n",
    "def run(f, args_list):\n",
    "    results = []    \n",
    "    futures = [executor.submit(f, *args) for args in args_list]\n",
    "    with tqdm(total=len(futures)) as pbar:\n",
    "        for future in concurrent.futures.as_completed(futures):\n",
    "            pbar.update(1)\n",
    "            if future.exception():\n",
    "                logging.warning(f\"{future.exception()}\")\n",
    "                results.append({'status': future.exception()})\n",
    "            else:\n",
    "                results.append(future.result())\n",
    "    return results    "
   ]
  },
  {
   "cell_type": "markdown",
   "metadata": {},
   "source": [
    "## Define Test Zones with Different Combinations of DS and DNSKEY Records"
   ]
  },
  {
   "cell_type": "code",
   "execution_count": null,
   "metadata": {},
   "outputs": [],
   "source": [
    "zones = [\n",
    "    {\n",
    "        'ds': algos, \n",
    "        'dnskey': tuple(sorted(set(algos) - set(remove_dnskeys))),\n",
    "        'name': dns.name.from_text(\n",
    "            \"-\".join(\n",
    "                [f\"ds{a}\" for a in sorted(algos)] +\n",
    "                [f\"dnskey{int(a)}\" for a in sorted(set(algos) - set(remove_dnskeys))]\n",
    "            ),\n",
    "            origin=ZONE\n",
    "        ),\n",
    "    }\n",
    "    for algos in itertools.chain(itertools.combinations(ALGORITHMS, 1), itertools.combinations(ALGORITHMS, 2))\n",
    "    for remove_dnskeys in [[a for i, a in enumerate(algos) if v[i]] for v in itertools.product([True, False], repeat=len(algos))]\n",
    "]\n",
    "zones = pd.DataFrame(zones)\n",
    "zones = zones.set_index('name')\n",
    "zones"
   ]
  },
  {
   "cell_type": "markdown",
   "metadata": {},
   "source": [
    "## Define Resolvers to be Studied: In the Lab (UDP/TCP) and In the Wild (UDP/TCP, TLS, HTTPS)"
   ]
  },
  {
   "cell_type": "code",
   "execution_count": null,
   "metadata": {},
   "outputs": [],
   "source": [
    "open_resolvers = [{'resolver_addr': row['IPv4'], 'resolver_name': row['Handle'], 'resolver_group': 'open-named'} for _, row in pd.read_csv(\"open-resolvers.csv\").iterrows()]\n",
    "lab_resolvers = [{'resolver_addr': row['IPv4'], 'resolver_name': row['Handle'], 'resolver_group': 'lab'} for _, row in pd.read_csv(\"lab-resolvers.csv\").iterrows()]"
   ]
  },
  {
   "cell_type": "code",
   "execution_count": null,
   "metadata": {},
   "outputs": [],
   "source": [
    "doh_resolvers = {\n",
    "    'cloudflare-doh': 'https://cloudflare-dns.com/dns-query',\n",
    "    'cloudflare-mozilla-doh': 'https://mozilla.cloudflare-dns.com/dns-query',\n",
    "    'google-doh': 'https://dns.google/dns-query',\n",
    "    'quad9-doh': 'https://dns.quad9.net/dns-query',\n",
    "    #'clean-browsing-doh': 'https://security-filter-dns.cleanbrowsing.org/dns-query',\n",
    "    'adguard-doh': 'https://dns.adguard.com/dns-query',\n",
    "    'comcast-doh': 'https://doh.xfinity.com/dns-query',\n",
    "}\n",
    "doh_resolvers = [{'resolver_addr': addr, 'resolver_name': handle, 'resolver_group': 'open-named'} for handle, addr in doh_resolvers.items()]\n",
    "dot_resolvers = {\n",
    "    'cloudflare-dot': 'tls://1.1.1.1',\n",
    "    'google-dot': 'tls://8.8.8.8',\n",
    "    'quad9-dot': 'tls://9.9.9.9',\n",
    "    'clean-browsing-dot': 'tls://185.228.168.9',\n",
    "    'adguard-dot': 'tls://94.140.14.14',\n",
    "}\n",
    "dot_resolvers = [{'resolver_addr': addr, 'resolver_name': handle, 'resolver_group': 'open-named'} for handle, addr in dot_resolvers.items()]"
   ]
  },
  {
   "cell_type": "code",
   "execution_count": null,
   "metadata": {},
   "outputs": [],
   "source": [
    "def resolver_transport(row):\n",
    "    if row['resolver_addr'].startswith('tls'):\n",
    "        return 'DoT'\n",
    "    if row['resolver_addr'].startswith('https'):\n",
    "        return 'DoH'\n",
    "    return 'UDP/TCP'\n",
    "\n",
    "resolvers = pd.DataFrame(open_resolvers + lab_resolvers + doh_resolvers + dot_resolvers)\n",
    "resolvers['resolver_transport'] = resolvers.apply(resolver_transport, axis=1)\n",
    "resolvers.head(5)"
   ]
  },
  {
   "cell_type": "markdown",
   "metadata": {},
   "source": [
    "### Determine Resolver Cipher Support"
   ]
  },
  {
   "cell_type": "code",
   "execution_count": null,
   "metadata": {},
   "outputs": [],
   "source": [
    "def check_resolver(resolver, algorithm):\n",
    "    try:\n",
    "        # order of queries to avoid caching problems?\n",
    "        r2 = query(dns.name.from_text(f'mitm-at.ds{algorithm}-dnskey{algorithm}', origin=ZONE), resolver['resolver_addr'], cd=False, rdtype=TXT)  # signature invalid\n",
    "        r1 = query(dns.name.from_text(f'ds{algorithm}-dnskey{algorithm}', origin=ZONE), resolver['resolver_addr'], cd=False, rdtype=TXT)  # signature valid\n",
    "        return {\n",
    "            **resolver,\n",
    "            'algorithm': algorithm,\n",
    "            'status': 'ok',\n",
    "            'rcode1': r1.rcode(),\n",
    "            'rcode2': r2.rcode(),\n",
    "        }\n",
    "    except dns.exception.Timeout:\n",
    "        return {\n",
    "            **resolver,\n",
    "            'algorithm': algorithm,\n",
    "            'status': 'timeout',\n",
    "        }\n",
    "    except Exception as e:\n",
    "        return {\n",
    "            **resolver,\n",
    "            'algorithm': algorithm,\n",
    "            'status': e,\n",
    "        }"
   ]
  },
  {
   "cell_type": "code",
   "execution_count": null,
   "metadata": {},
   "outputs": [],
   "source": [
    "resolver_support_results = run(check_resolver, [(resolver, a) for _, resolver in resolvers.iterrows() for a in ALGORITHMS])\n",
    "resolver_support_results = pd.DataFrame(resolver_support_results)"
   ]
  },
  {
   "cell_type": "code",
   "execution_count": null,
   "metadata": {},
   "outputs": [],
   "source": [
    "def support(row):\n",
    "    if row['status'] != 'ok':\n",
    "        return None\n",
    "    if row['rcode1'] == dns.rcode.Rcode.NOERROR and row['rcode2'] == dns.rcode.Rcode.NOERROR:\n",
    "        return False\n",
    "    elif row['rcode1'] == dns.rcode.Rcode.NOERROR and row['rcode2'] == dns.rcode.Rcode.SERVFAIL:\n",
    "        return True\n",
    "    elif row['rcode1'] == dns.rcode.Rcode.SERVFAIL and row['rcode2'] == dns.rcode.Rcode.NOERROR:\n",
    "        logging.warning(f'Weird resolver behavior for {row[\"resolver_name\"]}')\n",
    "        return None\n",
    "    elif row['rcode1'] == dns.rcode.Rcode.SERVFAIL and row['rcode2'] == dns.rcode.Rcode.SERVFAIL:\n",
    "        logging.warning(f'Weird resolver behavior for {row[\"resolver_name\"]}')\n",
    "        return None\n",
    "    else:\n",
    "        logging.warning(f'Resolver {row[\"resolver_name\"]} returned {row[\"rcode1\"]} and {row[\"rcode2\"]}')\n",
    "    \n",
    "resolver_support_results['supported'] = resolver_support_results.apply(support, axis=1)"
   ]
  },
  {
   "cell_type": "code",
   "execution_count": null,
   "metadata": {},
   "outputs": [],
   "source": [
    "def uncertain_any(s):\n",
    "    if None in list(s):  # None in s is always false, likely due to pandas' messing with the 'in' operator\n",
    "        return None\n",
    "    else:\n",
    "        return any(s)\n",
    "    \n",
    "resolver_support = resolver_support_results.groupby(['resolver_addr', 'algorithm'], dropna=False)[['supported']].agg({\n",
    "    'supported': [uncertain_any]\n",
    "}).reset_index().pivot(index='resolver_addr', columns='algorithm', values=('supported', 'uncertain_any')).reset_index()\n",
    "resolver_support.columns = ['resolver_addr'] + [f'supports_{a}' for a in ALGORITHMS]\n",
    "resolver_support['support'] = resolver_support.apply(lambda row: tuple(a for a in ALGORITHMS if row[f'supports_{a}'] is True), axis=1)\n",
    "resolvers = resolvers.set_index('resolver_addr').join(resolver_support.set_index('resolver_addr'))"
   ]
  },
  {
   "cell_type": "code",
   "execution_count": null,
   "metadata": {},
   "outputs": [],
   "source": [
    "def row_style(row):\n",
    "    styles = {\n",
    "        True: 'color: green;',\n",
    "        False: 'color: red;',\n",
    "    }\n",
    "    return [styles.get(v) for v in row]\n",
    "    \n",
    "resolvers.style.apply(row_style, axis=1)"
   ]
  },
  {
   "cell_type": "markdown",
   "metadata": {},
   "source": [
    "## Define Attack Strategies"
   ]
  },
  {
   "cell_type": "code",
   "execution_count": null,
   "metadata": {},
   "outputs": [],
   "source": [
    "attacks = [\n",
    "    {'name': 'replace signature number with ed448 and fake content', 'instructions': ('rs16', 'at')},\n",
    "    {'name': 'replace signature number with ed25519 and fake content', 'instructions': ('rs15', 'at')},\n",
    "    {'name': 'remove all signatures except ed448 and fake content', 'instructions': ('at',) + tuple(f'ds{a}' for a in ALGORITHMS if a < dns.dnssec.ED448)},\n",
    "    {'name': 'remove all signatures except ed25519 and ed448 and fake content', 'instructions': ('at',) + tuple(f'ds{a}' for a in ALGORITHMS if a < dns.dnssec.ED25519)},\n",
    "]\n",
    "attacks = pd.DataFrame(attacks)\n",
    "attacks['prefix'] = attacks.apply(lambda row: f\"mitm-{'-'.join(row['instructions'])}\", axis=1)\n",
    "attacks = attacks.set_index('prefix')\n",
    "attacks"
   ]
  },
  {
   "cell_type": "markdown",
   "metadata": {},
   "source": [
    "## Run Attack Evaluation"
   ]
  },
  {
   "cell_type": "code",
   "execution_count": null,
   "metadata": {},
   "outputs": [],
   "source": [
    "def check_attack(addr, prefix, zone):\n",
    "    try:\n",
    "        qname = dns.name.from_text(prefix, origin=zone)\n",
    "        r1 = query(qname, addr, cd=False, rdtype=TXT)\n",
    "        return {\n",
    "            'resolver_addr': addr,\n",
    "            'zone': zone,\n",
    "            'attack': prefix,\n",
    "            'status': 'ok',\n",
    "            'rcode': r1.rcode(),\n",
    "            'evil_content': 'evil' in str(r1),\n",
    "        }\n",
    "    except dns.exception.Timeout:\n",
    "        return {\n",
    "            'resolver_addr': addr,\n",
    "            'zone': zone,\n",
    "            'attack': prefix,\n",
    "            'status': 'timeout',\n",
    "        }\n",
    "    except Exception as e:\n",
    "        logging.warning(f\"Exception: {type(e).__name__}: {e}\")\n",
    "        return {\n",
    "            'resolver_addr': addr,\n",
    "            'zone': zone,\n",
    "            'attack': prefix,\n",
    "            'status': e,\n",
    "        }"
   ]
  },
  {
   "cell_type": "code",
   "execution_count": null,
   "metadata": {},
   "outputs": [],
   "source": [
    "attack_results = run(check_attack, [(addr, prefix, zone) for addr, _ in resolvers.iterrows() for prefix, _ in attacks.iterrows() for zone, _ in zones.iterrows()][:1000])\n",
    "attack_results = pd.DataFrame(attack_results)"
   ]
  },
  {
   "cell_type": "code",
   "execution_count": null,
   "metadata": {},
   "outputs": [],
   "source": [
    "attack_results[attack_results['evil_content'] == True]"
   ]
  },
  {
   "cell_type": "code",
   "execution_count": null,
   "metadata": {},
   "outputs": [],
   "source": [
    "results = attack_results.join(resolvers, on='resolver_addr').join(zones, on='zone').join(attacks, on='attack')"
   ]
  },
  {
   "cell_type": "code",
   "execution_count": null,
   "metadata": {},
   "outputs": [],
   "source": [
    "assert len(attack_results) == len(results)"
   ]
  },
  {
   "cell_type": "code",
   "execution_count": null,
   "metadata": {},
   "outputs": [],
   "source": [
    "results['supported_ds'] = results.apply(lambda row: tuple(set(row['ds']) & set(row['support'])), axis=1)\n",
    "results['supported_dnskey'] = results.apply(lambda row: tuple(set(row['dnskey']) & set(row['support'])), axis=1)"
   ]
  },
  {
   "cell_type": "code",
   "execution_count": null,
   "metadata": {},
   "outputs": [],
   "source": [
    "def behavior_correct(row):\n",
    "    if row['status'] != 'ok':\n",
    "        return None\n",
    "    \n",
    "    if row['rcode'] == dns.rcode.Rcode.NOERROR:\n",
    "        # signature invalid, but no error reported may only happen if no ds or no dnskey was supported\n",
    "        return not row['supported_ds'] or not row['supported_dnskey']\n",
    "    elif row['rcode'] == dns.rcode.Rcode.SERVFAIL:\n",
    "        # desired behavior for invalid signatures\n",
    "        return True\n",
    "            \n",
    "    return None\n",
    "\n",
    "results['behavior_correct'] = results.apply(behavior_correct, axis=1)"
   ]
  },
  {
   "cell_type": "code",
   "execution_count": null,
   "metadata": {},
   "outputs": [],
   "source": [
    "results['zone_prefix'] = results.apply(lambda row: row['zone'][0].decode(), axis=1)\n",
    "results['zone_config'] = results.apply(lambda row: f\"DS: {','.join(str(int(e)) for e in row['ds'])} DNSKEY: {','.join(str(int(e)) for e in row['dnskey'])}\", axis=1)"
   ]
  },
  {
   "cell_type": "markdown",
   "metadata": {},
   "source": [
    "## Show Success Attacks"
   ]
  },
  {
   "cell_type": "code",
   "execution_count": null,
   "metadata": {
    "scrolled": false
   },
   "outputs": [],
   "source": [
    "pd.options.display.max_rows = len(resolvers) * len(attacks)\n",
    "\n",
    "def values(s):\n",
    "    return '; '.join(s)\n",
    "\n",
    "def zone_proportion(s):\n",
    "    return len(s) / len(zones)\n",
    "\n",
    "attack_success_rate = results.groupby(['attack', 'name', 'resolver_group', 'resolver_name', 'resolver_addr'], dropna=False).agg({\n",
    "    'behavior_correct': [len, 'mean']\n",
    "}).reset_index() #.style.apply(lambda row: ['', 'color: red' if row['behavior_correct']['mean'] < 1 else ''], axis=1)\n",
    "attack_success_rate[attack_success_rate[('behavior_correct', 'mean')] < 1]"
   ]
  },
  {
   "cell_type": "markdown",
   "metadata": {},
   "source": [
    "## Generate Attack Reports"
   ]
  },
  {
   "cell_type": "code",
   "execution_count": null,
   "metadata": {},
   "outputs": [],
   "source": [
    "results['zone_name'] = results.apply(lambda row: row['zone'].to_text(), axis=1)"
   ]
  },
  {
   "cell_type": "code",
   "execution_count": null,
   "metadata": {},
   "outputs": [],
   "source": [
    "results.keys()"
   ]
  },
  {
   "cell_type": "code",
   "execution_count": null,
   "metadata": {
    "scrolled": false
   },
   "outputs": [],
   "source": [
    "for _, row in attack_success_rate[attack_success_rate[('behavior_correct', 'mean')] < 1].iterrows():\n",
    "    attack = row[\"attack\"][0]\n",
    "    attack_name = row[\"name\"][0]\n",
    "    resolver_addr = row[\"resolver_addr\"][0]\n",
    "    resolver_name = row[\"resolver_name\"][0]\n",
    "    details = results[(results['attack'] == attack) & (results['resolver_addr'] == resolver_addr)]\n",
    "    headline = f'## Attack: \"{attack_name}\"/{attack} at {resolver_name}/{resolver_addr}'\n",
    "    print(headline)\n",
    "    print('-' * (len(headline) + 2))\n",
    "    for a in ALGORITHMS:\n",
    "        more_details = details[details['zone_name'].str.contains(f'ds{a}')]\n",
    "        success_rate = 1-more_details['behavior_correct'].mean()\n",
    "        affected_names = ', '.join(more_details[more_details['behavior_correct'] == False]['zone_prefix'])\n",
    "        print(f\"    Success if DS     with alg {a:2n} present: {success_rate:6.1%} {'+' * math.ceil(success_rate*10):10s} {affected_names}\")\n",
    "    for a in ALGORITHMS:\n",
    "        success_rate = 1-details[details['zone_name'].str.contains(f'dnskey{a}')]['behavior_correct'].mean()\n",
    "        print(f\"    Success if DNSKEY with alg {a:2n} present: {success_rate:6.1%} {'+' * math.ceil(success_rate*10)}\")\n",
    "    print()"
   ]
  },
  {
   "cell_type": "code",
   "execution_count": null,
   "metadata": {},
   "outputs": [],
   "source": []
  }
 ],
 "metadata": {
  "kernelspec": {
   "display_name": "Python 3",
   "language": "python",
   "name": "python3"
  },
  "language_info": {
   "codemirror_mode": {
    "name": "ipython",
    "version": 3
   },
   "file_extension": ".py",
   "mimetype": "text/x-python",
   "name": "python",
   "nbconvert_exporter": "python",
   "pygments_lexer": "ipython3",
   "version": "3.8.10"
  }
 },
 "nbformat": 4,
 "nbformat_minor": 4
}
